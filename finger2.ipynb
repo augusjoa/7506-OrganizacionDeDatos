{
 "cells": [
  {
   "cell_type": "markdown",
   "metadata": {},
   "source": [
    "# Finger 2\n"
   ]
  },
  {
   "cell_type": "markdown",
   "metadata": {},
   "source": [
    "## Setup"
   ]
  },
  {
   "cell_type": "code",
   "execution_count": 18,
   "metadata": {},
   "outputs": [],
   "source": [
    "import pyspark as sp\n",
    "sc = sp.SparkContext.getOrCreate()\n",
    "sqlContext = sp.sql.SQLContext(sc)\n",
    "\n",
    "data =  sqlContext.read.csv('events.csv')\n"
   ]
  },
  {
   "cell_type": "markdown",
   "metadata": {},
   "source": [
    "## 1.Encontrar cuál es el tipo de evento predominante."
   ]
  },
  {
   "cell_type": "code",
   "execution_count": 17,
   "metadata": {},
   "outputs": [
    {
     "data": {
      "text/plain": [
       "[('viewed product', 528931)]"
      ]
     },
     "execution_count": 17,
     "metadata": {},
     "output_type": "execute_result"
    }
   ],
   "source": [
    "data.rdd.map(lambda a: (a[1], 1)).reduceByKey(lambda a,b: a + b).takeOrdered(1, lambda a: -a[1])"
   ]
  },
  {
   "cell_type": "markdown",
   "metadata": {},
   "source": [
    "El tipo de evento predominante es 'viewed product'\n"
   ]
  },
  {
   "cell_type": "markdown",
   "metadata": {},
   "source": [
    "## 2.Encontrar el Top 5 de dispositivos más visitados dentro de la categoría Smartphones."
   ]
  },
  {
   "cell_type": "code",
   "execution_count": 23,
   "metadata": {},
   "outputs": [
    {
     "data": {
      "text/plain": [
       "[]"
      ]
     },
     "execution_count": 23,
     "metadata": {},
     "output_type": "execute_result"
    }
   ],
   "source": [
    "data.rdd.filter(lambda a: (a[1] == 'viewed product') & (a[19] == 'smartphone')).map(lambda a: (a[4] + a[5] + a[6] + a[7], 1)).reduceByKey(lambda a,b: a + b).takeOrdered(1, lambda a: -a[1])"
   ]
  },
  {
   "cell_type": "markdown",
   "metadata": {},
   "source": [
    "Como no queda nada, pruebo sacandole el filtro de categorías"
   ]
  },
  {
   "cell_type": "code",
   "execution_count": 26,
   "metadata": {},
   "outputs": [
    {
     "data": {
      "text/plain": [
       "[('2830.0 iPhone 6 Bom 16GB', 4007),\n",
       " ('2829.0 iPhone 6 Bom 16GB', 3466),\n",
       " ('2831.0 iPhone 6 Bom 16GB', 3423),\n",
       " ('8443.0 Samsung Galaxy S7 Bom 32GB', 3265),\n",
       " ('12758.0 Samsung Galaxy S8 Bom 64GB', 2714)]"
      ]
     },
     "execution_count": 26,
     "metadata": {},
     "output_type": "execute_result"
    }
   ],
   "source": [
    "data.rdd.filter(lambda a: (a[1] == 'viewed product') ).map(lambda a: (a[4] + ' ' + a[5] + ' ' + a[6] + ' ' + a[7], 1)).reduceByKey(lambda a,b: a + b).takeOrdered(5, lambda a: -a[1])"
   ]
  }
 ],
 "metadata": {
  "kernelspec": {
   "display_name": "Python 3",
   "language": "python",
   "name": "python3"
  },
  "language_info": {
   "codemirror_mode": {
    "name": "ipython",
    "version": 3
   },
   "file_extension": ".py",
   "mimetype": "text/x-python",
   "name": "python",
   "nbconvert_exporter": "python",
   "pygments_lexer": "ipython3",
   "version": "3.5.1"
  }
 },
 "nbformat": 4,
 "nbformat_minor": 2
}
